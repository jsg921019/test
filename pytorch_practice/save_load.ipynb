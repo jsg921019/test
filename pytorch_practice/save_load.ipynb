{
 "cells": [
  {
   "cell_type": "code",
   "execution_count": 2,
   "metadata": {},
   "outputs": [],
   "source": [
    "import torch\n",
    "import torch.nn as nn"
   ]
  },
  {
   "cell_type": "markdown",
   "metadata": {},
   "source": [
    "**Saving complete model**\n",
    "1. `torch.save(model, PATH)`\n",
    "2. `model = torch.load(PATH)`\n",
    "3. `model.eval()`"
   ]
  },
  {
   "cell_type": "code",
   "execution_count": 4,
   "metadata": {},
   "outputs": [],
   "source": [
    "class Model(nn.Module):\n",
    "    def __init__(self, n_input_features):\n",
    "        super(Model, self).__init__()\n",
    "        self.linear = nn.Linear(n_input_features, 1)\n",
    "    def forward(self, x):\n",
    "        y_pred = torch.sigmoid(self.linear(x))\n",
    "        return y_pred"
   ]
  },
  {
   "cell_type": "code",
   "execution_count": 6,
   "metadata": {},
   "outputs": [],
   "source": [
    "FILE = \"backup/model.pth\"\n",
    "\n",
    "model = Model(n_input_features=6)\n",
    "torch.save(model, FILE)"
   ]
  },
  {
   "cell_type": "code",
   "execution_count": 7,
   "metadata": {},
   "outputs": [
    {
     "name": "stdout",
     "output_type": "stream",
     "text": [
      "Parameter containing:\n",
      "tensor([[ 0.1494,  0.0961, -0.1926,  0.0182, -0.3812, -0.2548]],\n",
      "       requires_grad=True)\n",
      "Parameter containing:\n",
      "tensor([0.0770], requires_grad=True)\n"
     ]
    }
   ],
   "source": [
    "model = torch.load(FILE)\n",
    "model.eval()\n",
    "\n",
    "for param in model.parameters():\n",
    "    print(param)"
   ]
  },
  {
   "cell_type": "markdown",
   "metadata": {},
   "source": [
    "**Saving state dict**\n",
    "1. `torch.save(model.state_dict(), PATH)`\n",
    "2. `model = Model(*arg, **kargs)`\n",
    "3. `model.load_state_dict(torch.load(PATH))`\n",
    "4. `model.eval()`"
   ]
  },
  {
   "cell_type": "code",
   "execution_count": 8,
   "metadata": {},
   "outputs": [],
   "source": [
    "FILE = \"backup/model_state_dict\"\n",
    "\n",
    "torch.save(model.state_dict(), FILE)"
   ]
  },
  {
   "cell_type": "code",
   "execution_count": 9,
   "metadata": {},
   "outputs": [
    {
     "name": "stdout",
     "output_type": "stream",
     "text": [
      "Parameter containing:\n",
      "tensor([[ 0.1494,  0.0961, -0.1926,  0.0182, -0.3812, -0.2548]],\n",
      "       requires_grad=True)\n",
      "Parameter containing:\n",
      "tensor([0.0770], requires_grad=True)\n"
     ]
    }
   ],
   "source": [
    "model2 = Model(n_input_features=6)\n",
    "model2.load_state_dict(torch.load(FILE))\n",
    "model2.eval()\n",
    "for param in model.parameters():\n",
    "    print(param)"
   ]
  },
  {
   "cell_type": "code",
   "execution_count": 11,
   "metadata": {},
   "outputs": [],
   "source": [
    "# saving checkpoints\n",
    "\n",
    "optimizer = torch.optim.SGD(model.parameters(), lr=0.001)\n",
    "\n",
    "checkpoint = {\n",
    "    'epoch' : 90,\n",
    "    \"model_state\" : model.state_dict(),\n",
    "    'optim_sate' : optimizer.state_dict()\n",
    "}\n",
    "torch.save(checkpoint, 'backup/checkpoint.pth')"
   ]
  },
  {
   "cell_type": "code",
   "execution_count": 14,
   "metadata": {},
   "outputs": [
    {
     "name": "stdout",
     "output_type": "stream",
     "text": [
      "OrderedDict([('linear.weight', tensor([[ 0.1494,  0.0961, -0.1926,  0.0182, -0.3812, -0.2548]])), ('linear.bias', tensor([0.0770]))])\n"
     ]
    }
   ],
   "source": [
    "loaded_checkpoint = torch.load('backup/checkpoint.pth')\n",
    "epoch = loaded_checkpoint['epoch']\n",
    "model = Model(n_input_features=6)\n",
    "optimizer = torch.optim.SGD(model.parameters(), lr=0.00001)\n",
    "model.load_state_dict(checkpoint['model_state'])\n",
    "optimizer.load_state_dict(checkpoint['optim_sate'])\n",
    "print(model.state_dict())"
   ]
  },
  {
   "cell_type": "code",
   "execution_count": null,
   "metadata": {},
   "outputs": [],
   "source": [
    "# GPU to CPU\n",
    "\n",
    "decive = torch.device('cuda')\n",
    "model.to(device)\n",
    "torch.save(model.state_dict(), PATH)\n",
    "\n",
    "device = torch.device('cpu')\n",
    "model = Model(*args, **kwargs)\n",
    "model.load_state_dict(torch.load(PATH, map_location=device))"
   ]
  },
  {
   "cell_type": "code",
   "execution_count": null,
   "metadata": {},
   "outputs": [],
   "source": [
    "# CPU to GPU\n",
    "\n",
    "torch.save(model.state_dict(), PATH)\n",
    "\n",
    "device = torch.device('cuda')\n",
    "model = Model(*args, **kwargs)\n",
    "model.load_state_dict(torch.load(PATH, map_location='cuda:0'))\n",
    "model.to(device)"
   ]
  }
 ],
 "metadata": {
  "kernelspec": {
   "display_name": "ml",
   "language": "python",
   "name": "ml"
  },
  "language_info": {
   "codemirror_mode": {
    "name": "ipython",
    "version": 3
   },
   "file_extension": ".py",
   "mimetype": "text/x-python",
   "name": "python",
   "nbconvert_exporter": "python",
   "pygments_lexer": "ipython3",
   "version": "3.8.5"
  },
  "toc": {
   "base_numbering": 1,
   "nav_menu": {},
   "number_sections": true,
   "sideBar": true,
   "skip_h1_title": false,
   "title_cell": "Table of Contents",
   "title_sidebar": "Contents",
   "toc_cell": false,
   "toc_position": {},
   "toc_section_display": true,
   "toc_window_display": false
  }
 },
 "nbformat": 4,
 "nbformat_minor": 4
}
