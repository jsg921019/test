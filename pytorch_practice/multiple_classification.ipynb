{
 "cells": [
  {
   "cell_type": "code",
   "execution_count": 1,
   "metadata": {},
   "outputs": [],
   "source": [
    "import torch\n",
    "import torch.nn as nn\n",
    "import numpy as np"
   ]
  },
  {
   "cell_type": "markdown",
   "metadata": {},
   "source": [
    "Softmax Layer"
   ]
  },
  {
   "cell_type": "code",
   "execution_count": 5,
   "metadata": {},
   "outputs": [
    {
     "name": "stdout",
     "output_type": "stream",
     "text": [
      "softmax of [0. 1. 2. 3.] : [0.0320586  0.08714432 0.23688282 0.64391426]\n"
     ]
    }
   ],
   "source": [
    "# numpy\n",
    "\n",
    "def softmax(X):\n",
    "    return np.exp(x) / np.sum(np.exp(x), axis=0)\n",
    "\n",
    "x = np.arange(4.)\n",
    "output = softmax(x)\n",
    "print(f'softmax of {x} : {output}')"
   ]
  },
  {
   "cell_type": "code",
   "execution_count": 7,
   "metadata": {},
   "outputs": [
    {
     "name": "stdout",
     "output_type": "stream",
     "text": [
      "softmax of tensor([0., 1., 2., 3.]) : tensor([0.0321, 0.0871, 0.2369, 0.6439])\n"
     ]
    }
   ],
   "source": [
    "# pytorch\n",
    "\n",
    "x = torch.arange(4.)\n",
    "output = torch.softmax(x, dim=0)\n",
    "print(f'softmax of {x} : {output}')"
   ]
  },
  {
   "cell_type": "markdown",
   "metadata": {},
   "source": [
    "Cross Entropy"
   ]
  },
  {
   "cell_type": "code",
   "execution_count": 8,
   "metadata": {},
   "outputs": [
    {
     "name": "stdout",
     "output_type": "stream",
     "text": [
      "loss of [0.7 0.2 0.1] : 0.35667494393873245\n",
      "loss of [0.1 0.2 0.7] : 2.3025850929940455\n"
     ]
    }
   ],
   "source": [
    "# numpy :  doesnt't applies softmax / uses one-hot-encoding\n",
    "\n",
    "def cross_entropy(y_pred, y):\n",
    "    loss = -np.sum(y*np.log(y_pred))\n",
    "    return loss\n",
    "\n",
    "y = np.array([1, 0, 0])\n",
    "y_pred_good = np.array([0.7, 0.2, 0.1])\n",
    "y_pred_bad = np.array([0.1, 0.2, 0.7])\n",
    "output1 = cross_entropy(y_pred_good, y)\n",
    "output2 = cross_entropy(y_pred_bad, y)\n",
    "print(f'loss of {y_pred_good} : {output1}')\n",
    "print(f'loss of {y_pred_bad} : {output2}')"
   ]
  },
  {
   "cell_type": "code",
   "execution_count": 20,
   "metadata": {},
   "outputs": [
    {
     "name": "stdout",
     "output_type": "stream",
     "text": [
      "good prediction : 0\n",
      "good prediction : 2\n",
      "loss of tensor([[2.0000, 1.0000, 0.1000]]) : 0.4170299470424652\n",
      "loss of tensor([[0.1000, 1.0000, 2.0000]]) : 2.3170299530029297\n"
     ]
    }
   ],
   "source": [
    "# pytorch : applies softmax automatically / uses class labels\n",
    "\n",
    "loss = nn.CrossEntropyLoss()\n",
    "y = torch.tensor([0])\n",
    "\n",
    "y_pred_good = torch.tensor([[2.0, 1.0, 0.1]])\n",
    "y_pred_bad = torch.tensor([[0.1, 1.0, 2.0]])\n",
    "\n",
    "val1, ind1 = torch.max(y_pred_good, 1)\n",
    "val2, ind2 = torch.max(y_pred_bad, 1)\n",
    "print(f'good prediction : {ind1.item()}')\n",
    "print(f'good prediction : {ind2.item()}')\n",
    "\n",
    "output1 = loss(y_pred_good, y)\n",
    "output2 = loss(y_pred_bad, y)\n",
    "\n",
    "print(f'loss of {y_pred_good} : {output1}')\n",
    "print(f'loss of {y_pred_bad} : {output2}')"
   ]
  },
  {
   "cell_type": "code",
   "execution_count": null,
   "metadata": {},
   "outputs": [],
   "source": [
    "# for binary classification : sigmoid + BCELoss"
   ]
  }
 ],
 "metadata": {
  "kernelspec": {
   "display_name": "ml",
   "language": "python",
   "name": "ml"
  },
  "language_info": {
   "codemirror_mode": {
    "name": "ipython",
    "version": 3
   },
   "file_extension": ".py",
   "mimetype": "text/x-python",
   "name": "python",
   "nbconvert_exporter": "python",
   "pygments_lexer": "ipython3",
   "version": "3.8.5"
  },
  "toc": {
   "base_numbering": 1,
   "nav_menu": {},
   "number_sections": true,
   "sideBar": true,
   "skip_h1_title": false,
   "title_cell": "Table of Contents",
   "title_sidebar": "Contents",
   "toc_cell": false,
   "toc_position": {},
   "toc_section_display": true,
   "toc_window_display": false
  }
 },
 "nbformat": 4,
 "nbformat_minor": 4
}
